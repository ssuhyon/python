{
 "cells": [
  {
   "cell_type": "code",
   "execution_count": null,
   "id": "33e61d63-04d7-4190-9492-eda237bd4077",
   "metadata": {},
   "outputs": [],
   "source": [
    "import random\n",
    "\n",
    "ans = random.randint(1, 10)\n",
    "print(\"1부터 10 사이의 숫자를 맞춰보세요!\")\n",
    "\n",
    "while True:\n",
    "    try:\n",
    "        num = int(input(\"이 숫자는 무엇일까요? : \"))\n",
    "        if num < ans:\n",
    "            print(f\"{num}은(는) 작다!\")\n",
    "        elif num > ans:\n",
    "            print(f\"{num}은(는) 크다!\")\n",
    "        else:\n",
    "            print(\"정답!\")\n",
    "            break\n",
    "    except ValueError:\n",
    "        print(\"숫자를 입력하세요!\")"
   ]
  }
 ],
 "metadata": {
  "kernelspec": {
   "display_name": "Python (myenv)",
   "language": "python",
   "name": "myenv"
  },
  "language_info": {
   "codemirror_mode": {
    "name": "ipython",
    "version": 3
   },
   "file_extension": ".py",
   "mimetype": "text/x-python",
   "name": "python",
   "nbconvert_exporter": "python",
   "pygments_lexer": "ipython3",
   "version": "3.12.7"
  }
 },
 "nbformat": 4,
 "nbformat_minor": 5
}
