{
 "cells": [
  {
   "cell_type": "code",
   "execution_count": null,
   "id": "e71631b8-4594-4c1b-8908-165061b0e33a",
   "metadata": {},
   "outputs": [],
   "source": [
    "import re\n",
    "def get_name():\n",
    "    while True:\n",
    "        name = input(\"이름을 입력하세요: \").strip()\n",
    "        if re.match(r\"^[가-힣\\s]+$\", name):\n",
    "            return name\n",
    "        elif re.match(r\"^[a-zA-Z\\s]+$\", name):\n",
    "            return name.title()\n",
    "        else:\n",
    "            print(\"이름을 입력하라니까.\")\n",
    "def get_gender():\n",
    "    while True:\n",
    "        gender = input(\"성별을 입력하세요 (m/f 또는 male/female):\").lower()\n",
    "        if gender in ['f','female']:\n",
    "            return 'Female'\n",
    "        elif gender in ['m', 'male']:\n",
    "            return 'Male'\n",
    "        else:\n",
    "            print(\"잘못된 입력입니다.\\nm/f 또는 male/female 중에서 선택하세요.\")\n",
    "def get_age():\n",
    "    while True:\n",
    "        try:\n",
    "            age = int(input(\"나이를 입력하세요:\"))\n",
    "            if 0 <= age <= 120:\n",
    "                return age\n",
    "            elif age > 120:\n",
    "                print(\"거짓말!!!\")\n",
    "            else:\n",
    "                print(\"나이를 거꾸로 드셨군요.. 다시 입력해주세요.\")\n",
    "        except ValueError:\n",
    "            print(\"나이는 숫자입니다. 다시 입력하세요.\")\n",
    "\n",
    "\n",
    "class Person:\n",
    "    def __init__(self, name, gender, age):\n",
    "        self.name = name\n",
    "        self.gender = gender\n",
    "        self.age = age\n",
    "    def display(self):\n",
    "        print(f\"Name: {self.name}, Gender: {self.gender}\")\n",
    "        print(f\"Age: {self.age}\")\n",
    "    \n",
    "\n",
    "name = get_name()\n",
    "gender = get_gender()\n",
    "age = get_age()\n",
    "\n",
    "\n",
    "person = Person(name, gender, age)\n",
    "person.display()"
   ]
  }
 ],
 "metadata": {
  "kernelspec": {
   "display_name": "Python (myenv)",
   "language": "python",
   "name": "myenv"
  },
  "language_info": {
   "codemirror_mode": {
    "name": "ipython",
    "version": 3
   },
   "file_extension": ".py",
   "mimetype": "text/x-python",
   "name": "python",
   "nbconvert_exporter": "python",
   "pygments_lexer": "ipython3",
   "version": "3.12.7"
  }
 },
 "nbformat": 4,
 "nbformat_minor": 5
}
